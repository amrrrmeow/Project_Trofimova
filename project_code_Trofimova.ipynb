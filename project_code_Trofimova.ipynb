{
 "cells": [
  {
   "cell_type": "code",
   "execution_count": 6,
   "id": "edf64f9e",
   "metadata": {},
   "outputs": [
    {
     "name": "stdout",
     "output_type": "stream",
     "text": [
      "Введите кодовое значение подвида: 1ж\n",
      "Введите числовое значение длины крыла: 152\n",
      "Число не входит в заданный диапазон\n"
     ]
    }
   ],
   "source": [
    "# Создаем словарь средних диапазонов значений для каждого кодового значения подвида\n",
    "diapasons = {\n",
    "    \"1м\": (184.5, 206.3),\n",
    "    \"1ж\": (182.5, 200),\n",
    "    \"11м\": (188.4, 203.5),\n",
    "    \"11ж\": (179.5, 195.5),\n",
    "    \"15м\": (201.3, 220.6),\n",
    "    \"15ж\": (188, 207),\n",
    "    \"115м\": (195, 216),\n",
    "    \"115ж\": (187.5, 204.3),\n",
    "    \"14м\": (199, 218.7),\n",
    "    \"14ж\": (192, 210.5),\n",
    "    \"114м\": (192, 218.5),\n",
    "    \"114ж\": (183.7, 206),\n",
    "    \"13м\": (208, 229.6),\n",
    "    \"13ж\": (199.5, 219),\n",
    "    \"113м\": (203, 228.5),\n",
    "    \"113ж\": (200.5, 219.6),\n",
    "    \"16м\": (214.5, 235),\n",
    "    \"16ж\": (208, 224),\n",
    "    \"116м\": (210, 232),\n",
    "    \"116ж\": (202.5, 224.5),\n",
    "    \"12м\": (214.3, 229),\n",
    "    \"12ж\": (202, 218),\n",
    "    \"112м\": (206, 222),\n",
    "    \"112ж\": (206, 210)\n",
    "}\n",
    "\n",
    "def check_diapason(subspecies_code, wing_length):\n",
    "    #    Функция для проверки принадлежности введенного числа к заданному диапазону значений выбранного подвида\n",
    "    \n",
    "   # Параметры:\n",
    "    #subspecies_code (str): кодовое значение подвида\n",
    "   # wing_length (float): числовое значение длины крыла\n",
    "    \n",
    "    #Возвращает:\n",
    "    #str: сообщение о принадлежности или непринадлежности числа к заданному диапазону\n",
    "    \n",
    "    # Получаем диапазон для указанного подвида\n",
    "    diapason = diapasons.get(subspecies_code)\n",
    "    \n",
    "    # Проверяем принадлежность числа к диапазону\n",
    "    if diapason and diapason[0] <= wing_length <= diapason[1]:\n",
    "        return \"Число входит в заданный диапазон\"\n",
    "    else:\n",
    "        return \"Число не входит в заданный диапазон\"\n",
    "\n",
    "# Запрашиваем данные у пользователя\n",
    "subspecies_code = input(\"Введите кодовое значение подвида: \")\n",
    "wing_length = float(input(\"Введите числовое значение длины крыла: \"))\n",
    "\n",
    "# Проверяем принадлежность числа к заданному диапазону\n",
    "result = check_diapason(subspecies_code, wing_length)\n",
    "print(result)\n"
   ]
  },
  {
   "cell_type": "code",
   "execution_count": null,
   "id": "3c313cd5",
   "metadata": {},
   "outputs": [],
   "source": []
  },
  {
   "cell_type": "code",
   "execution_count": null,
   "id": "153afa97",
   "metadata": {},
   "outputs": [],
   "source": []
  }
 ],
 "metadata": {
  "kernelspec": {
   "display_name": "Python 3 (ipykernel)",
   "language": "python",
   "name": "python3"
  },
  "language_info": {
   "codemirror_mode": {
    "name": "ipython",
    "version": 3
   },
   "file_extension": ".py",
   "mimetype": "text/x-python",
   "name": "python",
   "nbconvert_exporter": "python",
   "pygments_lexer": "ipython3",
   "version": "3.11.5"
  }
 },
 "nbformat": 4,
 "nbformat_minor": 5
}
